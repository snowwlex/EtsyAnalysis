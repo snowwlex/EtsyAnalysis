{
 "cells": [
  {
   "cell_type": "markdown",
   "metadata": {},
   "source": [
    "# Scraping\n",
    "\n",
    "\n",
    "In order to scrape data from Etsy, I've forked https://github.com/wayneyshaw/etsy (Thank you [Wayne Shaw](https://github.com/wayneyshaw) for this one!) PR and did some updated related to latest changes in Etsy website's layout.\n",
    "\n",
    "If you want to repeate the same, this is what you can do (you'll need [scrapy](https://scrapy.org/) installed on your system:\n",
    "\n",
    "```\n",
    "git clone https://github.com/snowwlex/etsy.git\n",
    "cd etsy\n",
    "scrapy crawl findSellers\n",
    "```\n",
    "\n",
    "as a result, there is `./output.csv` file with scraped data which is to be put into `raw_datasets` folder of EtsyAnalysis:\n",
    "\n",
    "```\n",
    "mkdir -p Path-to-EtsyAnalysis/raw_datasets Path-to-EtsyAnalysis/datasets\n",
    "cp output.csv Path-to-EtsyAnalysis/raw_datasets/raw_shops.csv\n",
    "```\n",
    "\n",
    "\n"
   ]
  },
  {
   "cell_type": "markdown",
   "metadata": {},
   "source": [
    "Alternatively, you can download this file from Kaggle: https://www.kaggle.com/snowwlex/etsy-shops#raw_shops.csv\n",
    "\n",
    "Please also mind that scraped version will contain column seller_name, which points to particular shop. This columnd has been dropped in Kaggle's dataset, in order to make the data anonimized."
   ]
  },
  {
   "cell_type": "markdown",
   "metadata": {},
   "source": [
    "## One more data set\n",
    "Also, please download worldcities.csv from https://www.kaggle.com/juanmah/world-cities and put it as `raw_datasets/worldcities.csv`"
   ]
  },
  {
   "cell_type": "code",
   "execution_count": null,
   "metadata": {},
   "outputs": [],
   "source": []
  }
 ],
 "metadata": {
  "kernelspec": {
   "display_name": "Python 3",
   "language": "python",
   "name": "python3"
  },
  "language_info": {
   "codemirror_mode": {
    "name": "ipython",
    "version": 3
   },
   "file_extension": ".py",
   "mimetype": "text/x-python",
   "name": "python",
   "nbconvert_exporter": "python",
   "pygments_lexer": "ipython3",
   "version": "3.7.3"
  }
 },
 "nbformat": 4,
 "nbformat_minor": 2
}
